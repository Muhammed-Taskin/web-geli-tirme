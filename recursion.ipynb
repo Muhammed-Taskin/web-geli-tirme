{
 "cells": [
  {
   "cell_type": "code",
   "execution_count": null,
   "id": "dee89c6b",
   "metadata": {},
   "outputs": [
    {
     "name": "stdout",
     "output_type": "stream",
     "text": [
      "120\n"
     ]
    }
   ],
   "source": [
    "#recursion(tanımlarında kendi kendini tekrar kullanan fonksiyonlardır.)\n",
    "def calculate_factorial(number):#faktöriyel hesaplayan bir fonksiyon yaptık.\n",
    "    if number == 0:\n",
    "        return 1\n",
    "    else:\n",
    "        return number * calculate_factorial(number-1)# fonksiyon içinde fonksiyonu çağırdık.\n",
    "print(calculate_factorial(int(input(\"enter a number:\"))))"
   ]
  },
  {
   "cell_type": "code",
   "execution_count": 3,
   "id": "31664245",
   "metadata": {},
   "outputs": [
    {
     "name": "stdout",
     "output_type": "stream",
     "text": [
      "15\n"
     ]
    }
   ],
   "source": [
    "# 0 a kadar olan sayıları toplayan fonksiyon\n",
    "def calculate_sum(number):\n",
    "    if number == 0:\n",
    "        return 0\n",
    "    else:\n",
    "        return number +calculate_sum(number-1) \n",
    "print(calculate_sum(int(input(\"sayı giriniz:\"))))"
   ]
  }
 ],
 "metadata": {
  "kernelspec": {
   "display_name": "Python 3",
   "language": "python",
   "name": "python3"
  },
  "language_info": {
   "codemirror_mode": {
    "name": "ipython",
    "version": 3
   },
   "file_extension": ".py",
   "mimetype": "text/x-python",
   "name": "python",
   "nbconvert_exporter": "python",
   "pygments_lexer": "ipython3",
   "version": "3.13.3"
  }
 },
 "nbformat": 4,
 "nbformat_minor": 5
}
