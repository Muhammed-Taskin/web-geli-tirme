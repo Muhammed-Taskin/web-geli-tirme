{
 "cells": [
  {
   "cell_type": "code",
   "execution_count": null,
   "id": "c1215d4b",
   "metadata": {},
   "outputs": [
    {
     "name": "stdout",
     "output_type": "stream",
     "text": [
      "{\"name\": \"ali\", \"age\": 20}\n"
     ]
    },
    {
     "data": {
      "text/plain": [
       "str"
      ]
     },
     "execution_count": 6,
     "metadata": {},
     "output_type": "execute_result"
    }
   ],
   "source": [
    "# bir veriyi json formatına çevirebilmek için  json kütüphanesini kullanırız\n",
    "import json\n",
    "data = {\n",
    "    \"name\": \"ali\",\n",
    "    \"age\": 20\n",
    "}\n",
    "json_data = json.dumps(data)\n",
    "print(json_data)# artık bir json formatında veri oldu\n"
   ]
  },
  {
   "cell_type": "code",
   "execution_count": null,
   "id": "af6a0b2d",
   "metadata": {},
   "outputs": [
    {
     "name": "stdout",
     "output_type": "stream",
     "text": [
      "{'userId': 1, 'id': 1, 'title': 'delectus aut autem', 'completed': False}\n",
      "{'userId': '2', 'title': 'my to do', 'completed': 'True', 'id': 201}\n"
     ]
    }
   ],
   "source": [
    "import requests\n",
    "#get\n",
    "user_id = input(\"enter id:\")\n",
    "url = f\"https://jsonplaceholder.typicode.com/todos/{user_id}\"\n",
    "get_response = requests.get(url)\n",
    "print(get_response.json())\n",
    "#post(yeni veri eklemek istendiğinde kullanılır.)\n",
    "to_do_item = {\n",
    "    \"userId\": 2,\n",
    "    \"title\": \"my to do\",\n",
    "    \"completed\": True\n",
    "}\n",
    "post_url = \"https://jsonplaceholder.typicode.com/todos\"\n",
    "post_response =requests.post(post_url,to_do_item)\n",
    "print(post_response.json())\n",
    "\n",
    "#HTTP header (request header(nerden geldiği bilgisi verilir), response header(ne geldiği bilgisi verilir))\n",
    "#Ekstra bilgiler verebilmek için kullanılır.\n",
    "\n",
    "\n"
   ]
  },
  {
   "cell_type": "code",
   "execution_count": null,
   "id": "8e255abd",
   "metadata": {},
   "outputs": [
    {
     "name": "stdout",
     "output_type": "stream",
     "text": [
      "{'userId': 2, 'title': 'put title', 'completed': False, 'id': 15}\n"
     ]
    }
   ],
   "source": [
    "#puth & patch & delete\n",
    "import requests\n",
    "\n",
    "get_url =\"https://jsonplaceholder.typicode.com/todos/15\"\n",
    "#put(bir parametreyi komple güncellemek istediğimizde kullanılır.)\n",
    "to_do_item_15 = {\n",
    "    \"userId\": 2,\n",
    "    \"title\": \"put title\",\n",
    "    \"completed\": False\n",
    "}\n",
    "put_response = requests.put(get_url, json=to_do_item_15)\n",
    "print(put_response.json())\n",
    "\n",
    "\n"
   ]
  },
  {
   "cell_type": "code",
   "execution_count": null,
   "id": "b7320fb5",
   "metadata": {},
   "outputs": [
    {
     "name": "stdout",
     "output_type": "stream",
     "text": [
      "{'userId': 1, 'id': 15, 'title': 'put title', 'completed': True}\n"
     ]
    }
   ],
   "source": [
    "#patch(tek bir parametreyi değiştirmek istediğimizde kullanılır.)\n",
    "import requests\n",
    "\n",
    "get_url =\"https://jsonplaceholder.typicode.com/todos/15\"\n",
    "\n",
    "to_do_item_patch = {\n",
    "    \"title\": \"put title\"\n",
    "}\n",
    "patch_response = requests.patch(get_url, json=to_do_item_patch)\n",
    "print(patch_response.json())\n",
    "\n"
   ]
  },
  {
   "cell_type": "code",
   "execution_count": 15,
   "id": "fe23f13f",
   "metadata": {},
   "outputs": [
    {
     "name": "stdout",
     "output_type": "stream",
     "text": [
      "{}\n"
     ]
    }
   ],
   "source": [
    "#delete\n",
    "import requests\n",
    "\n",
    "get_url =\"https://jsonplaceholder.typicode.com/todos/15\"\n",
    "delete_response = requests.delete(get_url)\n",
    "print(delete_response.json())"
   ]
  }
 ],
 "metadata": {
  "kernelspec": {
   "display_name": "Python 3",
   "language": "python",
   "name": "python3"
  },
  "language_info": {
   "codemirror_mode": {
    "name": "ipython",
    "version": 3
   },
   "file_extension": ".py",
   "mimetype": "text/x-python",
   "name": "python",
   "nbconvert_exporter": "python",
   "pygments_lexer": "ipython3",
   "version": "3.13.3"
  }
 },
 "nbformat": 4,
 "nbformat_minor": 5
}
