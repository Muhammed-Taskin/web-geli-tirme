{
 "cells": [
  {
   "cell_type": "code",
   "execution_count": null,
   "id": "9ac24ae4",
   "metadata": {},
   "outputs": [
    {
     "name": "stdout",
     "output_type": "stream",
     "text": [
      "buldum:http://mail.google.com\n",
      "buldum:http://admin.google.com\n",
      "buldum:http://local.google.com\n",
      "buldum:http://images.google.com\n",
      "buldum:http://drive.google.com\n",
      "buldum:http://blog.google.com\n",
      "buldum:http://support.google.com\n",
      "buldum:http://news.google.com\n",
      "buldum:http://video.google.com\n",
      "buldum:http://chat.google.com\n",
      "buldum:http://docs.google.com\n",
      "buldum:http://photos.google.com\n",
      "buldum:http://business.google.com\n",
      "buldum:http://shopping.google.com\n"
     ]
    }
   ],
   "source": [
    "#Subdomain Bulucu(siber güvelik alanında)\n",
    "import requests\n",
    "\n",
    "target_input = \"google.com\"\n",
    "\n",
    "\n",
    "\n",
    "with open(\"subdomainlist.txt\",\"r\") as subdomainlist:\n",
    "    for word in subdomainlist:# kelimeleri tek tek aldık  \n",
    "        word = word.strip()#strip ile boşlukları sildik.\n",
    "        url =\"http://\"+word+\".\"+ target_input\n",
    "        try:#try ile hata alırsa except ile pass geçirtiyoruz.\n",
    "            if requests.get(url).status_code == 200:\n",
    "                print(f\"buldum:{url}\")\n",
    "        except:# except ile olmayan linkleri atlamayı sağladık.\n",
    "            pass  "
   ]
  },
  {
   "cell_type": "code",
   "execution_count": null,
   "id": "7f968356",
   "metadata": {},
   "outputs": [
    {
     "name": "stdout",
     "output_type": "stream",
     "text": [
      "Found subdomain: http://mail.google.com\n",
      "Found subdomain: http://admin.google.com\n",
      "Found subdomain: http://local.google.com\n",
      "Found subdomain: http://images.google.com\n",
      "Found subdomain: http://drive.google.com\n",
      "Found subdomain: http://blog.google.com\n",
      "Found subdomain: http://support.google.com\n",
      "Found subdomain: http://news.google.com\n",
      "Found subdomain: http://video.google.com\n",
      "Found subdomain: http://chat.google.com\n",
      "Found subdomain: http://docs.google.com\n",
      "Found subdomain: http://photos.google.com\n",
      "Found subdomain: http://business.google.com\n",
      "Found subdomain: http://shopping.google.com\n"
     ]
    }
   ],
   "source": [
    "import requests\n",
    "\n",
    "def make_request(url):\n",
    "    try:\n",
    "        return requests.get(url)\n",
    "    except requests.exceptions.ConnectionError:\n",
    "        pass\n",
    "        \n",
    "target_input = \"google.com\"\n",
    "with open(\"subdomainlist.txt\",\"r\") as subdomain_list:\n",
    "    for word in subdomain_list:\n",
    "        word = word.strip()\n",
    "        url = f\"http://{word}.{target_input}\"\n",
    "        response = make_request(url)\n",
    "        if response:#response boş değilse subdomain bulundu\n",
    "            print(f\"Found subdomain: {url}\")"
   ]
  }
 ],
 "metadata": {
  "kernelspec": {
   "display_name": "Python 3",
   "language": "python",
   "name": "python3"
  },
  "language_info": {
   "codemirror_mode": {
    "name": "ipython",
    "version": 3
   },
   "file_extension": ".py",
   "mimetype": "text/x-python",
   "name": "python",
   "nbconvert_exporter": "python",
   "pygments_lexer": "ipython3",
   "version": "3.13.3"
  }
 },
 "nbformat": 4,
 "nbformat_minor": 5
}
