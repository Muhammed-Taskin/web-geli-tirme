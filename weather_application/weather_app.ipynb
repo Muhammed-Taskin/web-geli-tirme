{
 "cells": [
  {
   "cell_type": "code",
   "execution_count": null,
   "id": "0d18d285",
   "metadata": {},
   "outputs": [
    {
     "name": "stdout",
     "output_type": "stream",
     "text": [
      "403\n"
     ]
    }
   ],
   "source": [
    "#weather_application\n",
    "from tkinter import *\n",
    "from tkinter import messagebox\n",
    "import requests\n",
    "from tkinter import PhotoImage\n",
    "from geopy.geocoders import Nominatim\n",
    "import openmeteo_requests\n",
    "import json\n",
    "\n",
    "\n",
    "url = \"https://api.open-meteo.com/v1/forecast\"\n",
    "cor =  []\n",
    "def coordinate(lati, long):\n",
    "    city = city_entry.get().title().split(\",\")\n",
    "    geolocator = Nominatim(user_agent=\"weather_app.ipynb\")\n",
    "    location = geolocator.geocode(city)\n",
    "    lati = print(location.latitude)\n",
    "    long = print(location.longitude)\n",
    "    cor.append(lati)\n",
    "    cor.append(long)\n",
    "        \n",
    "def get_weather(params):\n",
    "    params = {\n",
    "        \"latitude\": cor[0],\n",
    "        \"longitude\":cor[1],\n",
    "        \"hourly\": \"temperature_2m\"\n",
    "        }\n",
    "    response = requests.get(url)\n",
    "    data = response.json()\n",
    "\n",
    "\n",
    "\n",
    "\n",
    "\n",
    "\n",
    "\n",
    "\n",
    "\n",
    "\n",
    "\n",
    "\n",
    "\n",
    "\n",
    "\n",
    "#UI\n",
    "window = Tk()\n",
    "window.title(\"Weather Application\")\n",
    "window.geometry(\"512x512\")\n",
    "\n",
    "photo = PhotoImage(file=\"weatherphoto.png\")\n",
    "photo_label = Label(image = photo)\n",
    "photo_label.place(x=0,y=0,relwidth=1,relheight=1)\n",
    "#city_label\n",
    "city_label = Label(text=\"CITY NAME(with the country name):\")\n",
    "city_label.pack()\n",
    "#city_entry\n",
    "city_entry = Entry(width=20)\n",
    "city_entry.pack()\n",
    "#city_search_button\n",
    "city_search_button = Button(text=\"SEARCH\",)\n",
    "city_search_button.pack()\n",
    "\n",
    "window.mainloop()"
   ]
  },
  {
   "cell_type": "code",
   "execution_count": 21,
   "id": "e25e7244",
   "metadata": {},
   "outputs": [
    {
     "name": "stdout",
     "output_type": "stream",
     "text": [
      "200\n"
     ]
    }
   ],
   "source": [
    "import requests\n",
    "\n",
    "url = \"https://api.open-meteo.com/v1/forecast\"\n",
    "\n",
    "response = requests.get(url)\n",
    "print(response.status_code)\n",
    "\n"
   ]
  }
 ],
 "metadata": {
  "kernelspec": {
   "display_name": "Python 3",
   "language": "python",
   "name": "python3"
  },
  "language_info": {
   "codemirror_mode": {
    "name": "ipython",
    "version": 3
   },
   "file_extension": ".py",
   "mimetype": "text/x-python",
   "name": "python",
   "nbconvert_exporter": "python",
   "pygments_lexer": "ipython3",
   "version": "3.13.3"
  }
 },
 "nbformat": 4,
 "nbformat_minor": 5
}
